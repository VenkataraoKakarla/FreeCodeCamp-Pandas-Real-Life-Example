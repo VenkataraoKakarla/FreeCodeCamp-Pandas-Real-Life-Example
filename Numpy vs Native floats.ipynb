{
  "cells": [
    {
      "cell_type": "code",
      "execution_count": null,
      "metadata": {
        "id": "_vu6pOC40cBP"
      },
      "outputs": [],
      "source": [
        "f = 2.3"
      ]
    },
    {
      "cell_type": "code",
      "execution_count": null,
      "metadata": {
        "id": "BAcCrwGV0cBW",
        "outputId": "456c77ee-542e-40f9-fdbc-57fbc8cad351"
      },
      "outputs": [
        {
          "ename": "AttributeError",
          "evalue": "'float' object has no attribute 'round'",
          "output_type": "error",
          "traceback": [
            "\u001b[0;31m---------------------------------------------------------------------------\u001b[0m",
            "\u001b[0;31mAttributeError\u001b[0m                            Traceback (most recent call last)",
            "\u001b[0;32m<ipython-input-2-7fa49f6758b7>\u001b[0m in \u001b[0;36m<module>\u001b[0;34m\u001b[0m\n\u001b[0;32m----> 1\u001b[0;31m \u001b[0mf\u001b[0m\u001b[0;34m.\u001b[0m\u001b[0mround\u001b[0m\u001b[0;34m\u001b[0m\u001b[0;34m\u001b[0m\u001b[0m\n\u001b[0m",
            "\u001b[0;31mAttributeError\u001b[0m: 'float' object has no attribute 'round'"
          ]
        }
      ],
      "source": [
        "f.round"
      ]
    },
    {
      "cell_type": "code",
      "execution_count": null,
      "metadata": {
        "id": "h2jH41a_0cBY"
      },
      "outputs": [],
      "source": [
        "import numpy as np"
      ]
    },
    {
      "cell_type": "code",
      "execution_count": null,
      "metadata": {
        "id": "klzV7JCY0cBZ"
      },
      "outputs": [],
      "source": [
        "f = np.float64('2.34444')"
      ]
    },
    {
      "cell_type": "code",
      "execution_count": null,
      "metadata": {
        "id": "GIWbFudy0cBZ",
        "outputId": "f90cbbc7-b2c0-496e-e05e-ae3e04d8a298"
      },
      "outputs": [
        {
          "data": {
            "text/plain": [
              "<function float64.round>"
            ]
          },
          "execution_count": 6,
          "metadata": {},
          "output_type": "execute_result"
        }
      ],
      "source": [
        "f.round"
      ]
    },
    {
      "cell_type": "code",
      "execution_count": null,
      "metadata": {
        "id": "IkGG3kl10cBa",
        "outputId": "0ca5c1f9-a1fb-46cf-c4b2-a21990f4a073"
      },
      "outputs": [
        {
          "data": {
            "text/plain": [
              "2.34"
            ]
          },
          "execution_count": 7,
          "metadata": {},
          "output_type": "execute_result"
        }
      ],
      "source": [
        "f.round(2)"
      ]
    }
  ],
  "metadata": {
    "kernelspec": {
      "display_name": "Python 3",
      "language": "python",
      "name": "python3"
    },
    "language_info": {
      "codemirror_mode": {
        "name": "ipython",
        "version": 3
      },
      "file_extension": ".py",
      "mimetype": "text/x-python",
      "name": "python",
      "nbconvert_exporter": "python",
      "pygments_lexer": "ipython3",
      "version": "3.8.0"
    },
    "colab": {
      "provenance": []
    }
  },
  "nbformat": 4,
  "nbformat_minor": 0
}